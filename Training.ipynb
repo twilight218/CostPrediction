{
 "cells": [
  {
   "cell_type": "code",
   "execution_count": 2,
   "id": "7affea41",
   "metadata": {},
   "outputs": [],
   "source": [
    "from train import *\n",
    "import model\n",
    "import net\n",
    "import torch\n",
    "import os"
   ]
  },
  {
   "cell_type": "code",
   "execution_count": 3,
   "id": "9a4ea5f5",
   "metadata": {},
   "outputs": [
    {
     "name": "stdout",
     "output_type": "stream",
     "text": [
      "***********************************************\n"
     ]
    },
    {
     "name": "stderr",
     "output_type": "stream",
     "text": [
      "E:\\file\\python_workspace\\CostPrediction\\model.py:55: UserWarning: Creating a tensor from a list of numpy.ndarrays is extremely slow. Please consider converting the list to a single numpy.ndarray with numpy.array() before converting to a tensor. (Triggered internally at  C:\\actions-runner\\_work\\pytorch\\pytorch\\builder\\windows\\pytorch\\torch\\csrc\\utils\\tensor_new.cpp:204.)\n",
      "  targets = torch.tensor(targets)\n"
     ]
    },
    {
     "name": "stdout",
     "output_type": "stream",
     "text": [
      "Initial input channels: 9\n",
      "Epoch 0 training loss: 0.012552740406423521\n",
      "Epoch 1 training loss: 0.001758494339351462\n",
      "Epoch 2 training loss: 0.0013843196545193454\n",
      "Epoch 3 training loss: 0.0010605908507412781\n",
      "Epoch 4 training loss: 0.0010231300742055227\n",
      "Epoch 5 training loss: 0.0008433241727326761\n",
      "Epoch 6 training loss: 0.0007693473391334182\n",
      "Epoch 7 training loss: 0.0006645287529291278\n",
      "Epoch 8 training loss: 0.0008611431629036199\n",
      "Epoch 9 training loss: 0.0006663449153325673\n",
      "Epoch 10 training loss: 0.0007720093431859501\n",
      "Epoch 11 training loss: 0.0006382678776613835\n",
      "Epoch 12 training loss: 0.0006615032663261265\n",
      "Epoch 13 training loss: 0.000679374022982842\n",
      "Epoch 14 training loss: 0.0005133143887576534\n",
      "Epoch 15 training loss: 0.0005361121546305246\n",
      "Epoch 16 training loss: 0.0007364883104963347\n",
      "Epoch 17 training loss: 0.0005949346735617317\n",
      "Epoch 18 training loss: 0.0005976405737338775\n",
      "Stopped training from convergence condition at epoch 18\n"
     ]
    }
   ],
   "source": [
    "train_model = train_and_save_model(\"bao_model\")"
   ]
  },
  {
   "cell_type": "code",
   "execution_count": 4,
   "id": "bffce351",
   "metadata": {},
   "outputs": [
    {
     "name": "stdout",
     "output_type": "stream",
     "text": [
      "Median: 1.485587337789148\n",
      "Mean: 2.426172094985763\n",
      "{'q_error_median': 1.485587337789148, 'q_error_90': 3.2494163482609295, 'q_error_mean': 2.426172094985763}\n",
      "Corr:  0.9576556806501829\n"
     ]
    }
   ],
   "source": [
    "evaluate(train_model, \"job-light\", \"bao_model\")"
   ]
  },
  {
   "cell_type": "code",
   "execution_count": null,
   "id": "3cb3c0c5",
   "metadata": {},
   "outputs": [],
   "source": []
  },
  {
   "cell_type": "code",
   "execution_count": null,
   "id": "77d9d3e1",
   "metadata": {},
   "outputs": [],
   "source": []
  }
 ],
 "metadata": {
  "kernelspec": {
   "display_name": "Python [conda env:d2l] *",
   "language": "python",
   "name": "conda-env-d2l-py"
  },
  "language_info": {
   "codemirror_mode": {
    "name": "ipython",
    "version": 3
   },
   "file_extension": ".py",
   "mimetype": "text/x-python",
   "name": "python",
   "nbconvert_exporter": "python",
   "pygments_lexer": "ipython3",
   "version": "3.8.16"
  }
 },
 "nbformat": 4,
 "nbformat_minor": 5
}
